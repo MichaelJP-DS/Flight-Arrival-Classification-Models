{
  "nbformat": 4,
  "nbformat_minor": 0,
  "metadata": {
    "colab": {
      "name": "Flight Arrival Classification.ipynb",
      "provenance": [],
      "collapsed_sections": [],
      "machine_shape": "hm",
      "authorship_tag": "ABX9TyN4NykTZDCd4Ox6vmE/hrs0",
      "include_colab_link": true
    },
    "kernelspec": {
      "name": "python3",
      "display_name": "Python 3"
    },
    "language_info": {
      "name": "python"
    }
  },
  "cells": [
    {
      "cell_type": "markdown",
      "metadata": {
        "id": "view-in-github",
        "colab_type": "text"
      },
      "source": [
        "<a href=\"https://colab.research.google.com/github/MichaelJP-DS/Flight-Arrival-Classification-Models/blob/main/Flight_Arrival_Classification.ipynb\" target=\"_parent\"><img src=\"https://colab.research.google.com/assets/colab-badge.svg\" alt=\"Open In Colab\"/></a>"
      ]
    },
    {
      "cell_type": "markdown",
      "source": [
        "# Flight Arrival Classification Models\n",
        "\n",
        "Working with different models to predict arrival times of flights from 2015\n",
        "\n",
        "## Arrival Classes\n",
        "\n",
        "1. More than 10 minutes Late\n",
        "2. Less than 10 Minutes Late/On Time\n",
        "3. Early\n",
        "\n",
        "\n",
        "# Project Flow\n",
        "\n",
        "Select Data Set\n",
        "\n",
        "* Read in Data Set\n",
        "* Set up wrangle function for cleaning and normalization\n",
        "* Use Scikit-Learn to split data for training and validation\n",
        "* Establish a Baseline\n",
        "* Set up Models\n",
        "* Test Accuracy\n",
        "* Utilize Hyperparameter Tuning\n",
        "* Use different analysis tools and visualizations to analyse results\n",
        "\n",
        "\n",
        "# Baseline\n",
        "\n",
        "* Select most predictable outcome using Value Counts Method\n",
        "\n",
        "\n",
        "# Considerations\n",
        "\n",
        "* Data Leakage\n",
        "\n",
        "\n",
        "* Model Uses\n",
        "\n",
        "\n",
        "* Other Uses?"
      ],
      "metadata": {
        "id": "zADPgNJsD7BP"
      }
    },
    {
      "cell_type": "code",
      "execution_count": 1,
      "metadata": {
        "colab": {
          "base_uri": "https://localhost:8080/"
        },
        "id": "6ff5gVrgCIVC",
        "outputId": "4fa9621e-33bb-4358-e90c-6b41e899516c"
      },
      "outputs": [
        {
          "output_type": "stream",
          "name": "stdout",
          "text": [
            "Mounted at /content/drive\n"
          ]
        }
      ],
      "source": [
        "from google.colab import drive\n",
        "drive.mount('/content/drive')"
      ]
    },
    {
      "cell_type": "code",
      "source": [
        "# SHAP Install\n",
        "!pip install SHAP"
      ],
      "metadata": {
        "colab": {
          "base_uri": "https://localhost:8080/"
        },
        "id": "urK6ZtTEdKTU",
        "outputId": "6d8a85c7-fb96-4ea5-ad5a-9fe5b5319f86"
      },
      "execution_count": 2,
      "outputs": [
        {
          "output_type": "stream",
          "name": "stdout",
          "text": [
            "Collecting SHAP\n",
            "  Downloading shap-0.40.0-cp37-cp37m-manylinux2010_x86_64.whl (564 kB)\n",
            "\u001b[?25l\r\u001b[K     |▋                               | 10 kB 16.5 MB/s eta 0:00:01\r\u001b[K     |█▏                              | 20 kB 13.4 MB/s eta 0:00:01\r\u001b[K     |█▊                              | 30 kB 9.8 MB/s eta 0:00:01\r\u001b[K     |██▎                             | 40 kB 8.5 MB/s eta 0:00:01\r\u001b[K     |███                             | 51 kB 5.2 MB/s eta 0:00:01\r\u001b[K     |███▌                            | 61 kB 5.3 MB/s eta 0:00:01\r\u001b[K     |████                            | 71 kB 5.5 MB/s eta 0:00:01\r\u001b[K     |████▋                           | 81 kB 6.1 MB/s eta 0:00:01\r\u001b[K     |█████▏                          | 92 kB 4.8 MB/s eta 0:00:01\r\u001b[K     |█████▉                          | 102 kB 5.1 MB/s eta 0:00:01\r\u001b[K     |██████▍                         | 112 kB 5.1 MB/s eta 0:00:01\r\u001b[K     |███████                         | 122 kB 5.1 MB/s eta 0:00:01\r\u001b[K     |███████▌                        | 133 kB 5.1 MB/s eta 0:00:01\r\u001b[K     |████████▏                       | 143 kB 5.1 MB/s eta 0:00:01\r\u001b[K     |████████▊                       | 153 kB 5.1 MB/s eta 0:00:01\r\u001b[K     |█████████▎                      | 163 kB 5.1 MB/s eta 0:00:01\r\u001b[K     |█████████▉                      | 174 kB 5.1 MB/s eta 0:00:01\r\u001b[K     |██████████▍                     | 184 kB 5.1 MB/s eta 0:00:01\r\u001b[K     |███████████                     | 194 kB 5.1 MB/s eta 0:00:01\r\u001b[K     |███████████▋                    | 204 kB 5.1 MB/s eta 0:00:01\r\u001b[K     |████████████▏                   | 215 kB 5.1 MB/s eta 0:00:01\r\u001b[K     |████████████▊                   | 225 kB 5.1 MB/s eta 0:00:01\r\u001b[K     |█████████████▍                  | 235 kB 5.1 MB/s eta 0:00:01\r\u001b[K     |██████████████                  | 245 kB 5.1 MB/s eta 0:00:01\r\u001b[K     |██████████████▌                 | 256 kB 5.1 MB/s eta 0:00:01\r\u001b[K     |███████████████                 | 266 kB 5.1 MB/s eta 0:00:01\r\u001b[K     |███████████████▋                | 276 kB 5.1 MB/s eta 0:00:01\r\u001b[K     |████████████████▎               | 286 kB 5.1 MB/s eta 0:00:01\r\u001b[K     |████████████████▉               | 296 kB 5.1 MB/s eta 0:00:01\r\u001b[K     |█████████████████▍              | 307 kB 5.1 MB/s eta 0:00:01\r\u001b[K     |██████████████████              | 317 kB 5.1 MB/s eta 0:00:01\r\u001b[K     |██████████████████▋             | 327 kB 5.1 MB/s eta 0:00:01\r\u001b[K     |███████████████████▏            | 337 kB 5.1 MB/s eta 0:00:01\r\u001b[K     |███████████████████▊            | 348 kB 5.1 MB/s eta 0:00:01\r\u001b[K     |████████████████████▎           | 358 kB 5.1 MB/s eta 0:00:01\r\u001b[K     |████████████████████▉           | 368 kB 5.1 MB/s eta 0:00:01\r\u001b[K     |█████████████████████▌          | 378 kB 5.1 MB/s eta 0:00:01\r\u001b[K     |██████████████████████          | 389 kB 5.1 MB/s eta 0:00:01\r\u001b[K     |██████████████████████▋         | 399 kB 5.1 MB/s eta 0:00:01\r\u001b[K     |███████████████████████▏        | 409 kB 5.1 MB/s eta 0:00:01\r\u001b[K     |███████████████████████▉        | 419 kB 5.1 MB/s eta 0:00:01\r\u001b[K     |████████████████████████▍       | 430 kB 5.1 MB/s eta 0:00:01\r\u001b[K     |█████████████████████████       | 440 kB 5.1 MB/s eta 0:00:01\r\u001b[K     |█████████████████████████▌      | 450 kB 5.1 MB/s eta 0:00:01\r\u001b[K     |██████████████████████████      | 460 kB 5.1 MB/s eta 0:00:01\r\u001b[K     |██████████████████████████▊     | 471 kB 5.1 MB/s eta 0:00:01\r\u001b[K     |███████████████████████████▎    | 481 kB 5.1 MB/s eta 0:00:01\r\u001b[K     |███████████████████████████▉    | 491 kB 5.1 MB/s eta 0:00:01\r\u001b[K     |████████████████████████████▍   | 501 kB 5.1 MB/s eta 0:00:01\r\u001b[K     |█████████████████████████████   | 512 kB 5.1 MB/s eta 0:00:01\r\u001b[K     |█████████████████████████████▋  | 522 kB 5.1 MB/s eta 0:00:01\r\u001b[K     |██████████████████████████████▏ | 532 kB 5.1 MB/s eta 0:00:01\r\u001b[K     |██████████████████████████████▊ | 542 kB 5.1 MB/s eta 0:00:01\r\u001b[K     |███████████████████████████████▎| 552 kB 5.1 MB/s eta 0:00:01\r\u001b[K     |████████████████████████████████| 563 kB 5.1 MB/s eta 0:00:01\r\u001b[K     |████████████████████████████████| 564 kB 5.1 MB/s \n",
            "\u001b[?25hRequirement already satisfied: numba in /usr/local/lib/python3.7/dist-packages (from SHAP) (0.51.2)\n",
            "Requirement already satisfied: pandas in /usr/local/lib/python3.7/dist-packages (from SHAP) (1.1.5)\n",
            "Collecting slicer==0.0.7\n",
            "  Downloading slicer-0.0.7-py3-none-any.whl (14 kB)\n",
            "Requirement already satisfied: scikit-learn in /usr/local/lib/python3.7/dist-packages (from SHAP) (1.0.2)\n",
            "Requirement already satisfied: cloudpickle in /usr/local/lib/python3.7/dist-packages (from SHAP) (1.3.0)\n",
            "Requirement already satisfied: tqdm>4.25.0 in /usr/local/lib/python3.7/dist-packages (from SHAP) (4.62.3)\n",
            "Requirement already satisfied: scipy in /usr/local/lib/python3.7/dist-packages (from SHAP) (1.4.1)\n",
            "Requirement already satisfied: numpy in /usr/local/lib/python3.7/dist-packages (from SHAP) (1.19.5)\n",
            "Requirement already satisfied: packaging>20.9 in /usr/local/lib/python3.7/dist-packages (from SHAP) (21.3)\n",
            "Requirement already satisfied: pyparsing!=3.0.5,>=2.0.2 in /usr/local/lib/python3.7/dist-packages (from packaging>20.9->SHAP) (3.0.6)\n",
            "Requirement already satisfied: llvmlite<0.35,>=0.34.0.dev0 in /usr/local/lib/python3.7/dist-packages (from numba->SHAP) (0.34.0)\n",
            "Requirement already satisfied: setuptools in /usr/local/lib/python3.7/dist-packages (from numba->SHAP) (57.4.0)\n",
            "Requirement already satisfied: python-dateutil>=2.7.3 in /usr/local/lib/python3.7/dist-packages (from pandas->SHAP) (2.8.2)\n",
            "Requirement already satisfied: pytz>=2017.2 in /usr/local/lib/python3.7/dist-packages (from pandas->SHAP) (2018.9)\n",
            "Requirement already satisfied: six>=1.5 in /usr/local/lib/python3.7/dist-packages (from python-dateutil>=2.7.3->pandas->SHAP) (1.15.0)\n",
            "Requirement already satisfied: threadpoolctl>=2.0.0 in /usr/local/lib/python3.7/dist-packages (from scikit-learn->SHAP) (3.0.0)\n",
            "Requirement already satisfied: joblib>=0.11 in /usr/local/lib/python3.7/dist-packages (from scikit-learn->SHAP) (1.1.0)\n",
            "Installing collected packages: slicer, SHAP\n",
            "Successfully installed SHAP-0.40.0 slicer-0.0.7\n"
          ]
        }
      ]
    },
    {
      "cell_type": "code",
      "source": [
        "# Import Statements\n",
        "\n",
        "# Libraries\n",
        "import pandas as pd\n",
        "import numpy as np\n",
        "\n",
        "# Data Processing\n",
        "from sklearn.preprocessing import minmax_scale\n",
        "from sklearn import preprocessing\n",
        "from sklearn.model_selection import train_test_split\n",
        "\n",
        "# ML Boosted Model\n",
        "from xgboost import XGBClassifier\n",
        "from sklearn.pipeline import make_pipeline\n",
        "from sklearn.metrics import accuracy_score\n",
        "\n",
        "# Neural Network/ML\n",
        "import tensorflow as tf\n",
        "from tensorflow.keras.preprocessing import sequence\n",
        "from tensorflow.keras.models import Sequential\n",
        "from tensorflow.keras.layers import Dense, Embedding\n",
        "from tensorflow.keras.layers import LSTM\n",
        "from tensorflow.keras.optimizers import Adam\n",
        "from tensorflow.keras.activations import relu, softmax\n",
        "from keras.layers import Dropout\n",
        "\n",
        "# MLP NN\n",
        "from sklearn.neural_network import MLPClassifier\n",
        "from sklearn.pipeline import make_pipeline\n",
        "from sklearn.preprocessing import StandardScaler\n",
        "\n",
        "# Viz & Analysis\n",
        "from tensorflow.keras.callbacks import TensorBoard\n",
        "from sklearn.metrics import confusion_matrix\n",
        "import seaborn as sns\n",
        "from sklearn.metrics import plot_confusion_matrix, classification_report\n",
        "import shap\n",
        "\n",
        "\n",
        "#TensorBoard\n",
        "%load_ext tensorboard"
      ],
      "metadata": {
        "id": "wDPeaFetCUpU",
        "colab": {
          "base_uri": "https://localhost:8080/"
        },
        "outputId": "19ebaa52-40ea-405a-dc53-e2bcbb1a8703"
      },
      "execution_count": 29,
      "outputs": [
        {
          "output_type": "stream",
          "name": "stdout",
          "text": [
            "The tensorboard extension is already loaded. To reload it, use:\n",
            "  %reload_ext tensorboard\n"
          ]
        }
      ]
    },
    {
      "cell_type": "code",
      "source": [
        "df_flights = pd.read_csv('/content/drive/MyDrive/Classification Data/flights.csv', low_memory=False)"
      ],
      "metadata": {
        "id": "OyzFfwu8Cssl"
      },
      "execution_count": 4,
      "outputs": []
    },
    {
      "cell_type": "code",
      "source": [
        "df_flights.head()"
      ],
      "metadata": {
        "colab": {
          "base_uri": "https://localhost:8080/",
          "height": 270
        },
        "id": "UhZ7DkXn30nK",
        "outputId": "e913c5c3-b1b7-4257-f770-6566c2353cfc"
      },
      "execution_count": 5,
      "outputs": [
        {
          "output_type": "execute_result",
          "data": {
            "text/html": [
              "\n",
              "  <div id=\"df-9189b7ba-0608-4e64-bfd3-9557eb15adf7\">\n",
              "    <div class=\"colab-df-container\">\n",
              "      <div>\n",
              "<style scoped>\n",
              "    .dataframe tbody tr th:only-of-type {\n",
              "        vertical-align: middle;\n",
              "    }\n",
              "\n",
              "    .dataframe tbody tr th {\n",
              "        vertical-align: top;\n",
              "    }\n",
              "\n",
              "    .dataframe thead th {\n",
              "        text-align: right;\n",
              "    }\n",
              "</style>\n",
              "<table border=\"1\" class=\"dataframe\">\n",
              "  <thead>\n",
              "    <tr style=\"text-align: right;\">\n",
              "      <th></th>\n",
              "      <th>YEAR</th>\n",
              "      <th>MONTH</th>\n",
              "      <th>DAY</th>\n",
              "      <th>DAY_OF_WEEK</th>\n",
              "      <th>AIRLINE</th>\n",
              "      <th>FLIGHT_NUMBER</th>\n",
              "      <th>TAIL_NUMBER</th>\n",
              "      <th>ORIGIN_AIRPORT</th>\n",
              "      <th>DESTINATION_AIRPORT</th>\n",
              "      <th>SCHEDULED_DEPARTURE</th>\n",
              "      <th>DEPARTURE_TIME</th>\n",
              "      <th>DEPARTURE_DELAY</th>\n",
              "      <th>TAXI_OUT</th>\n",
              "      <th>WHEELS_OFF</th>\n",
              "      <th>SCHEDULED_TIME</th>\n",
              "      <th>ELAPSED_TIME</th>\n",
              "      <th>AIR_TIME</th>\n",
              "      <th>DISTANCE</th>\n",
              "      <th>WHEELS_ON</th>\n",
              "      <th>TAXI_IN</th>\n",
              "      <th>SCHEDULED_ARRIVAL</th>\n",
              "      <th>ARRIVAL_TIME</th>\n",
              "      <th>ARRIVAL_DELAY</th>\n",
              "      <th>DIVERTED</th>\n",
              "      <th>CANCELLED</th>\n",
              "      <th>CANCELLATION_REASON</th>\n",
              "      <th>AIR_SYSTEM_DELAY</th>\n",
              "      <th>SECURITY_DELAY</th>\n",
              "      <th>AIRLINE_DELAY</th>\n",
              "      <th>LATE_AIRCRAFT_DELAY</th>\n",
              "      <th>WEATHER_DELAY</th>\n",
              "    </tr>\n",
              "  </thead>\n",
              "  <tbody>\n",
              "    <tr>\n",
              "      <th>0</th>\n",
              "      <td>2015</td>\n",
              "      <td>1</td>\n",
              "      <td>1</td>\n",
              "      <td>4</td>\n",
              "      <td>AS</td>\n",
              "      <td>98</td>\n",
              "      <td>N407AS</td>\n",
              "      <td>ANC</td>\n",
              "      <td>SEA</td>\n",
              "      <td>5</td>\n",
              "      <td>2354.0</td>\n",
              "      <td>-11.0</td>\n",
              "      <td>21.0</td>\n",
              "      <td>15.0</td>\n",
              "      <td>205.0</td>\n",
              "      <td>194.0</td>\n",
              "      <td>169.0</td>\n",
              "      <td>1448</td>\n",
              "      <td>404.0</td>\n",
              "      <td>4.0</td>\n",
              "      <td>430</td>\n",
              "      <td>408.0</td>\n",
              "      <td>-22.0</td>\n",
              "      <td>0</td>\n",
              "      <td>0</td>\n",
              "      <td>NaN</td>\n",
              "      <td>NaN</td>\n",
              "      <td>NaN</td>\n",
              "      <td>NaN</td>\n",
              "      <td>NaN</td>\n",
              "      <td>NaN</td>\n",
              "    </tr>\n",
              "    <tr>\n",
              "      <th>1</th>\n",
              "      <td>2015</td>\n",
              "      <td>1</td>\n",
              "      <td>1</td>\n",
              "      <td>4</td>\n",
              "      <td>AA</td>\n",
              "      <td>2336</td>\n",
              "      <td>N3KUAA</td>\n",
              "      <td>LAX</td>\n",
              "      <td>PBI</td>\n",
              "      <td>10</td>\n",
              "      <td>2.0</td>\n",
              "      <td>-8.0</td>\n",
              "      <td>12.0</td>\n",
              "      <td>14.0</td>\n",
              "      <td>280.0</td>\n",
              "      <td>279.0</td>\n",
              "      <td>263.0</td>\n",
              "      <td>2330</td>\n",
              "      <td>737.0</td>\n",
              "      <td>4.0</td>\n",
              "      <td>750</td>\n",
              "      <td>741.0</td>\n",
              "      <td>-9.0</td>\n",
              "      <td>0</td>\n",
              "      <td>0</td>\n",
              "      <td>NaN</td>\n",
              "      <td>NaN</td>\n",
              "      <td>NaN</td>\n",
              "      <td>NaN</td>\n",
              "      <td>NaN</td>\n",
              "      <td>NaN</td>\n",
              "    </tr>\n",
              "    <tr>\n",
              "      <th>2</th>\n",
              "      <td>2015</td>\n",
              "      <td>1</td>\n",
              "      <td>1</td>\n",
              "      <td>4</td>\n",
              "      <td>US</td>\n",
              "      <td>840</td>\n",
              "      <td>N171US</td>\n",
              "      <td>SFO</td>\n",
              "      <td>CLT</td>\n",
              "      <td>20</td>\n",
              "      <td>18.0</td>\n",
              "      <td>-2.0</td>\n",
              "      <td>16.0</td>\n",
              "      <td>34.0</td>\n",
              "      <td>286.0</td>\n",
              "      <td>293.0</td>\n",
              "      <td>266.0</td>\n",
              "      <td>2296</td>\n",
              "      <td>800.0</td>\n",
              "      <td>11.0</td>\n",
              "      <td>806</td>\n",
              "      <td>811.0</td>\n",
              "      <td>5.0</td>\n",
              "      <td>0</td>\n",
              "      <td>0</td>\n",
              "      <td>NaN</td>\n",
              "      <td>NaN</td>\n",
              "      <td>NaN</td>\n",
              "      <td>NaN</td>\n",
              "      <td>NaN</td>\n",
              "      <td>NaN</td>\n",
              "    </tr>\n",
              "    <tr>\n",
              "      <th>3</th>\n",
              "      <td>2015</td>\n",
              "      <td>1</td>\n",
              "      <td>1</td>\n",
              "      <td>4</td>\n",
              "      <td>AA</td>\n",
              "      <td>258</td>\n",
              "      <td>N3HYAA</td>\n",
              "      <td>LAX</td>\n",
              "      <td>MIA</td>\n",
              "      <td>20</td>\n",
              "      <td>15.0</td>\n",
              "      <td>-5.0</td>\n",
              "      <td>15.0</td>\n",
              "      <td>30.0</td>\n",
              "      <td>285.0</td>\n",
              "      <td>281.0</td>\n",
              "      <td>258.0</td>\n",
              "      <td>2342</td>\n",
              "      <td>748.0</td>\n",
              "      <td>8.0</td>\n",
              "      <td>805</td>\n",
              "      <td>756.0</td>\n",
              "      <td>-9.0</td>\n",
              "      <td>0</td>\n",
              "      <td>0</td>\n",
              "      <td>NaN</td>\n",
              "      <td>NaN</td>\n",
              "      <td>NaN</td>\n",
              "      <td>NaN</td>\n",
              "      <td>NaN</td>\n",
              "      <td>NaN</td>\n",
              "    </tr>\n",
              "    <tr>\n",
              "      <th>4</th>\n",
              "      <td>2015</td>\n",
              "      <td>1</td>\n",
              "      <td>1</td>\n",
              "      <td>4</td>\n",
              "      <td>AS</td>\n",
              "      <td>135</td>\n",
              "      <td>N527AS</td>\n",
              "      <td>SEA</td>\n",
              "      <td>ANC</td>\n",
              "      <td>25</td>\n",
              "      <td>24.0</td>\n",
              "      <td>-1.0</td>\n",
              "      <td>11.0</td>\n",
              "      <td>35.0</td>\n",
              "      <td>235.0</td>\n",
              "      <td>215.0</td>\n",
              "      <td>199.0</td>\n",
              "      <td>1448</td>\n",
              "      <td>254.0</td>\n",
              "      <td>5.0</td>\n",
              "      <td>320</td>\n",
              "      <td>259.0</td>\n",
              "      <td>-21.0</td>\n",
              "      <td>0</td>\n",
              "      <td>0</td>\n",
              "      <td>NaN</td>\n",
              "      <td>NaN</td>\n",
              "      <td>NaN</td>\n",
              "      <td>NaN</td>\n",
              "      <td>NaN</td>\n",
              "      <td>NaN</td>\n",
              "    </tr>\n",
              "  </tbody>\n",
              "</table>\n",
              "</div>\n",
              "      <button class=\"colab-df-convert\" onclick=\"convertToInteractive('df-9189b7ba-0608-4e64-bfd3-9557eb15adf7')\"\n",
              "              title=\"Convert this dataframe to an interactive table.\"\n",
              "              style=\"display:none;\">\n",
              "        \n",
              "  <svg xmlns=\"http://www.w3.org/2000/svg\" height=\"24px\"viewBox=\"0 0 24 24\"\n",
              "       width=\"24px\">\n",
              "    <path d=\"M0 0h24v24H0V0z\" fill=\"none\"/>\n",
              "    <path d=\"M18.56 5.44l.94 2.06.94-2.06 2.06-.94-2.06-.94-.94-2.06-.94 2.06-2.06.94zm-11 1L8.5 8.5l.94-2.06 2.06-.94-2.06-.94L8.5 2.5l-.94 2.06-2.06.94zm10 10l.94 2.06.94-2.06 2.06-.94-2.06-.94-.94-2.06-.94 2.06-2.06.94z\"/><path d=\"M17.41 7.96l-1.37-1.37c-.4-.4-.92-.59-1.43-.59-.52 0-1.04.2-1.43.59L10.3 9.45l-7.72 7.72c-.78.78-.78 2.05 0 2.83L4 21.41c.39.39.9.59 1.41.59.51 0 1.02-.2 1.41-.59l7.78-7.78 2.81-2.81c.8-.78.8-2.07 0-2.86zM5.41 20L4 18.59l7.72-7.72 1.47 1.35L5.41 20z\"/>\n",
              "  </svg>\n",
              "      </button>\n",
              "      \n",
              "  <style>\n",
              "    .colab-df-container {\n",
              "      display:flex;\n",
              "      flex-wrap:wrap;\n",
              "      gap: 12px;\n",
              "    }\n",
              "\n",
              "    .colab-df-convert {\n",
              "      background-color: #E8F0FE;\n",
              "      border: none;\n",
              "      border-radius: 50%;\n",
              "      cursor: pointer;\n",
              "      display: none;\n",
              "      fill: #1967D2;\n",
              "      height: 32px;\n",
              "      padding: 0 0 0 0;\n",
              "      width: 32px;\n",
              "    }\n",
              "\n",
              "    .colab-df-convert:hover {\n",
              "      background-color: #E2EBFA;\n",
              "      box-shadow: 0px 1px 2px rgba(60, 64, 67, 0.3), 0px 1px 3px 1px rgba(60, 64, 67, 0.15);\n",
              "      fill: #174EA6;\n",
              "    }\n",
              "\n",
              "    [theme=dark] .colab-df-convert {\n",
              "      background-color: #3B4455;\n",
              "      fill: #D2E3FC;\n",
              "    }\n",
              "\n",
              "    [theme=dark] .colab-df-convert:hover {\n",
              "      background-color: #434B5C;\n",
              "      box-shadow: 0px 1px 3px 1px rgba(0, 0, 0, 0.15);\n",
              "      filter: drop-shadow(0px 1px 2px rgba(0, 0, 0, 0.3));\n",
              "      fill: #FFFFFF;\n",
              "    }\n",
              "  </style>\n",
              "\n",
              "      <script>\n",
              "        const buttonEl =\n",
              "          document.querySelector('#df-9189b7ba-0608-4e64-bfd3-9557eb15adf7 button.colab-df-convert');\n",
              "        buttonEl.style.display =\n",
              "          google.colab.kernel.accessAllowed ? 'block' : 'none';\n",
              "\n",
              "        async function convertToInteractive(key) {\n",
              "          const element = document.querySelector('#df-9189b7ba-0608-4e64-bfd3-9557eb15adf7');\n",
              "          const dataTable =\n",
              "            await google.colab.kernel.invokeFunction('convertToInteractive',\n",
              "                                                     [key], {});\n",
              "          if (!dataTable) return;\n",
              "\n",
              "          const docLinkHtml = 'Like what you see? Visit the ' +\n",
              "            '<a target=\"_blank\" href=https://colab.research.google.com/notebooks/data_table.ipynb>data table notebook</a>'\n",
              "            + ' to learn more about interactive tables.';\n",
              "          element.innerHTML = '';\n",
              "          dataTable['output_type'] = 'display_data';\n",
              "          await google.colab.output.renderOutput(dataTable, element);\n",
              "          const docLink = document.createElement('div');\n",
              "          docLink.innerHTML = docLinkHtml;\n",
              "          element.appendChild(docLink);\n",
              "        }\n",
              "      </script>\n",
              "    </div>\n",
              "  </div>\n",
              "  "
            ],
            "text/plain": [
              "   YEAR  MONTH  DAY  ...  AIRLINE_DELAY LATE_AIRCRAFT_DELAY  WEATHER_DELAY\n",
              "0  2015      1    1  ...            NaN                 NaN            NaN\n",
              "1  2015      1    1  ...            NaN                 NaN            NaN\n",
              "2  2015      1    1  ...            NaN                 NaN            NaN\n",
              "3  2015      1    1  ...            NaN                 NaN            NaN\n",
              "4  2015      1    1  ...            NaN                 NaN            NaN\n",
              "\n",
              "[5 rows x 31 columns]"
            ]
          },
          "metadata": {},
          "execution_count": 5
        }
      ]
    },
    {
      "cell_type": "markdown",
      "source": [
        "## Wrangle Function for NN w/ data normalization"
      ],
      "metadata": {
        "id": "sPH4TgLdzV_C"
      }
    },
    {
      "cell_type": "code",
      "source": [
        "def wrangle_neuralN(df):\n",
        "\n",
        "  # Eliminate columns that may result in data leakage\n",
        "  df = df.drop(columns= ['WHEELS_OFF', 'ELAPSED_TIME', 'AIR_TIME', 'WHEELS_ON', 'ARRIVAL_TIME', 'YEAR', 'DAY'])\n",
        "\n",
        "  # Drop rows when flight was cancelled but keep data when flight was not\n",
        "  df = df.drop(df[df.CANCELLED == 1].index)\n",
        "\n",
        "  df = df.drop(df[df.DIVERTED == 1].index)\n",
        "\n",
        "  # Now drop cancelled column the resulting rows where not impacted by cancelled flight\n",
        "  df = df.drop(columns= ['CANCELLED', 'CANCELLATION_REASON'])\n",
        "\n",
        "  # Drop rows related to reason for departure delay & high null value count.\n",
        "  df = df.drop(columns= ['AIR_SYSTEM_DELAY', 'SECURITY_DELAY', 'LATE_AIRCRAFT_DELAY', 'WEATHER_DELAY', 'AIRLINE_DELAY','DIVERTED', 'DEPARTURE_DELAY'])\n",
        "\n",
        "  # Drop High Cardinality Column\n",
        "  df = df.drop(columns= ['TAIL_NUMBER', 'FLIGHT_NUMBER'])\n",
        "\n",
        "  # Label encode Airline, Origin Airport and Destination Airport\n",
        "  enc = preprocessing.LabelEncoder()\n",
        "  df['AIRLINE'] = enc.fit_transform(df['AIRLINE'])\n",
        "  df['ORIGIN_AIRPORT'] = enc.fit_transform(df['ORIGIN_AIRPORT'])\n",
        "  df['DESTINATION_AIRPORT'] = enc.fit_transform(df['DESTINATION_AIRPORT'])\n",
        "\n",
        "  # Impute limited null values with column mean\n",
        "  df['ARRIVAL_DELAY'] = df['ARRIVAL_DELAY'].fillna(4)\n",
        "  df['TAXI_IN'] = df['TAXI_IN'].fillna(7.4)  \n",
        "\n",
        "  # Set up target column in classes\n",
        "  df.loc[df['ARRIVAL_DELAY'] <= -10.0, 'ARRIVAL' ] = 0\n",
        "  df.loc[(df['ARRIVAL_DELAY'] > -10.0) & (df['ARRIVAL_DELAY'] <= 0.0), 'ARRIVAL'] = 1\n",
        "  df.loc[(df['ARRIVAL_DELAY'] > 0), 'ARRIVAL'] = 2\n",
        " \n",
        "  # Convert arrival to Integer for NN\n",
        "  df['ARRIVAL'] = df['ARRIVAL'].astype(int)\n",
        "\n",
        "  # Drop modified column\n",
        "  df = df.drop(columns='ARRIVAL_DELAY')\n",
        "\n",
        "  # Normalize data for processing\n",
        "\n",
        "  df['MONTH'] = minmax_scale(df['MONTH'])      \n",
        "  df['DAY_OF_WEEK'] = minmax_scale(df['DAY_OF_WEEK'])\n",
        "  df['AIRLINE'] = minmax_scale(df['AIRLINE'])\n",
        "  df['ORIGIN_AIRPORT'] = minmax_scale(df['ORIGIN_AIRPORT'])\n",
        "  df['DESTINATION_AIRPORT'] = minmax_scale(df['DESTINATION_AIRPORT'])\n",
        "  df['SCHEDULED_DEPARTURE'] = minmax_scale(df['SCHEDULED_DEPARTURE'])\n",
        "  df['DEPARTURE_TIME'] = minmax_scale(df['DEPARTURE_TIME'])\n",
        "  #df['DEPARTURE_DELAY'] = minmax_scale(df['DEPARTURE_DELAY'])  \n",
        "  df['TAXI_OUT'] = minmax_scale(df['TAXI_OUT'])\n",
        "  df['SCHEDULED_TIME'] = minmax_scale(df['SCHEDULED_TIME'])      \n",
        "  df['DISTANCE'] = minmax_scale(df['DISTANCE'])            \n",
        "  df['TAXI_IN'] = minmax_scale(df['TAXI_IN'])                \n",
        "  df['SCHEDULED_ARRIVAL'] = minmax_scale(df['SCHEDULED_ARRIVAL'])\n",
        "  df['ARRIVAL'] = minmax_scale(df['ARRIVAL']) \n",
        "\n",
        "  df = df.iloc[0:1000000]               \n",
        "\n",
        "  return df"
      ],
      "metadata": {
        "id": "zaT0rgZMfwYD"
      },
      "execution_count": 6,
      "outputs": []
    },
    {
      "cell_type": "markdown",
      "source": [
        "## Wrangle Function for XGBClassifier non-normalized data"
      ],
      "metadata": {
        "id": "TV49aViNzZbj"
      }
    },
    {
      "cell_type": "code",
      "source": [
        "def wrangle_XGBClass(df):\n",
        "\n",
        "  # Eliminate columns that may result in data leakage\n",
        "  df = df.drop(columns= ['WHEELS_OFF', 'ELAPSED_TIME', 'AIR_TIME', 'WHEELS_ON', 'ARRIVAL_TIME', 'YEAR', 'DAY'])\n",
        "\n",
        "  # Drop rows when flight was cancelled but keep data when flight was not\n",
        "  df = df.drop(df[df.CANCELLED == 1].index)\n",
        "\n",
        "  df = df.drop(df[df.DIVERTED == 1].index)\n",
        "\n",
        "  # Now drop cancelled column the resulting rows where not impacted by cancelled flight\n",
        "  df = df.drop(columns= ['CANCELLED', 'CANCELLATION_REASON'])\n",
        "\n",
        "  # Drop rows related to reason for departure delay & high null value count.\n",
        "  df = df.drop(columns= ['AIR_SYSTEM_DELAY', 'SECURITY_DELAY', 'LATE_AIRCRAFT_DELAY', 'WEATHER_DELAY', 'AIRLINE_DELAY', 'DIVERTED','DEPARTURE_DELAY'])\n",
        "\n",
        "  # Drop High Cardinality Column\n",
        "  df = df.drop(columns= ['TAIL_NUMBER', 'FLIGHT_NUMBER'])\n",
        "\n",
        "  # Label encode Airline, Origin Airport and Destination Airport\n",
        "  enc = preprocessing.LabelEncoder()\n",
        "  df['AIRLINE'] = enc.fit_transform(df['AIRLINE'])\n",
        "  df['ORIGIN_AIRPORT'] = enc.fit_transform(df['ORIGIN_AIRPORT'])\n",
        "  df['DESTINATION_AIRPORT'] = enc.fit_transform(df['DESTINATION_AIRPORT'])\n",
        "\n",
        "  # Impute limited null values with column mean\n",
        "  df['ARRIVAL_DELAY'] = df['ARRIVAL_DELAY'].fillna(4)\n",
        "  df['TAXI_IN'] = df['TAXI_IN'].fillna(7.4)  \n",
        "\n",
        "  # Set up target column in classes\n",
        "  df.loc[df['ARRIVAL_DELAY'] <= -10.0, 'ARRIVAL' ] = 0\n",
        "  df.loc[(df['ARRIVAL_DELAY'] > -10.0) & (df['ARRIVAL_DELAY'] <= 0.0), 'ARRIVAL'] = 1\n",
        "  df.loc[(df['ARRIVAL_DELAY'] > 0), 'ARRIVAL'] = 2\n",
        "\n",
        "  \n",
        "  # Convert arrival to Integer for NN\n",
        "  df['ARRIVAL'] = df['ARRIVAL'].astype(int)\n",
        "\n",
        "  # Drop modified column\n",
        "  df = df.drop(columns='ARRIVAL_DELAY')\n",
        "\n",
        "  df = df.iloc[0:1000000]               \n",
        "\n",
        "  return df"
      ],
      "metadata": {
        "id": "tK8hGnApxtp-"
      },
      "execution_count": 7,
      "outputs": []
    },
    {
      "cell_type": "markdown",
      "source": [
        "## Run dataframe wrangle function"
      ],
      "metadata": {
        "id": "YViy1D3S-Wog"
      }
    },
    {
      "cell_type": "code",
      "source": [
        "df_Neural_Net = wrangle_neuralN(df_flights)"
      ],
      "metadata": {
        "id": "rZ29G64A9dE_"
      },
      "execution_count": 8,
      "outputs": []
    },
    {
      "cell_type": "code",
      "source": [
        "df_Classifier = wrangle_XGBClass(df_flights)"
      ],
      "metadata": {
        "id": "vea54KJkx1Uk"
      },
      "execution_count": 9,
      "outputs": []
    },
    {
      "cell_type": "markdown",
      "source": [
        "## Quick Check for Null Values"
      ],
      "metadata": {
        "id": "ESK0CQvUycn6"
      }
    },
    {
      "cell_type": "code",
      "source": [
        "df_Neural_Net.isnull().sum()"
      ],
      "metadata": {
        "colab": {
          "base_uri": "https://localhost:8080/"
        },
        "id": "kSEuhPMuA2oN",
        "outputId": "685cd556-92d9-4a05-abfc-b161e30608c2"
      },
      "execution_count": 10,
      "outputs": [
        {
          "output_type": "execute_result",
          "data": {
            "text/plain": [
              "MONTH                  0\n",
              "DAY_OF_WEEK            0\n",
              "AIRLINE                0\n",
              "ORIGIN_AIRPORT         0\n",
              "DESTINATION_AIRPORT    0\n",
              "SCHEDULED_DEPARTURE    0\n",
              "DEPARTURE_TIME         0\n",
              "TAXI_OUT               0\n",
              "SCHEDULED_TIME         0\n",
              "DISTANCE               0\n",
              "TAXI_IN                0\n",
              "SCHEDULED_ARRIVAL      0\n",
              "ARRIVAL                0\n",
              "dtype: int64"
            ]
          },
          "metadata": {},
          "execution_count": 10
        }
      ]
    },
    {
      "cell_type": "code",
      "source": [
        "df_Classifier.isnull().sum()"
      ],
      "metadata": {
        "colab": {
          "base_uri": "https://localhost:8080/"
        },
        "id": "UB29qUkP3tqJ",
        "outputId": "e40c1f12-6474-43b0-a9f8-cd3ad8e0ff16"
      },
      "execution_count": 11,
      "outputs": [
        {
          "output_type": "execute_result",
          "data": {
            "text/plain": [
              "MONTH                  0\n",
              "DAY_OF_WEEK            0\n",
              "AIRLINE                0\n",
              "ORIGIN_AIRPORT         0\n",
              "DESTINATION_AIRPORT    0\n",
              "SCHEDULED_DEPARTURE    0\n",
              "DEPARTURE_TIME         0\n",
              "TAXI_OUT               0\n",
              "SCHEDULED_TIME         0\n",
              "DISTANCE               0\n",
              "TAXI_IN                0\n",
              "SCHEDULED_ARRIVAL      0\n",
              "ARRIVAL                0\n",
              "dtype: int64"
            ]
          },
          "metadata": {},
          "execution_count": 11
        }
      ]
    },
    {
      "cell_type": "markdown",
      "source": [
        "## Train, Test, Split NN"
      ],
      "metadata": {
        "id": "7RGYYa_axFKK"
      }
    },
    {
      "cell_type": "code",
      "source": [
        "y = df_Neural_Net['ARRIVAL']\n",
        "\n",
        "X = df_Neural_Net.drop(columns='ARRIVAL')"
      ],
      "metadata": {
        "id": "fGtwxe-ExIyP"
      },
      "execution_count": 12,
      "outputs": []
    },
    {
      "cell_type": "code",
      "source": [
        "X_train, X_test, y_train, y_test = train_test_split(X, y, test_size=0.2)"
      ],
      "metadata": {
        "id": "A1PElEKNxesI"
      },
      "execution_count": 13,
      "outputs": []
    },
    {
      "cell_type": "markdown",
      "source": [
        "# Train Test Split Classifier"
      ],
      "metadata": {
        "id": "UgcDz4jyyA7S"
      }
    },
    {
      "cell_type": "code",
      "source": [
        "y_C = df_Classifier['ARRIVAL']\n",
        "\n",
        "X_C = df_Classifier.drop(columns='ARRIVAL')"
      ],
      "metadata": {
        "id": "2gn1v7WYyFeb"
      },
      "execution_count": 14,
      "outputs": []
    },
    {
      "cell_type": "code",
      "source": [
        "X_train_C, X_test_C, y_train_C, y_test_C = train_test_split(X_C, y_C, test_size=0.2)"
      ],
      "metadata": {
        "id": "ERE-X-PLyuQ0"
      },
      "execution_count": 15,
      "outputs": []
    },
    {
      "cell_type": "markdown",
      "source": [
        "## Model Baseline"
      ],
      "metadata": {
        "id": "j0A1o9mWJ94Q"
      }
    },
    {
      "cell_type": "code",
      "source": [
        "BaseLine = y_train.value_counts(normalize=True).max()\n",
        "\n",
        "print('Simple Baseline', BaseLine)"
      ],
      "metadata": {
        "id": "DiiWdRD8KBqL",
        "colab": {
          "base_uri": "https://localhost:8080/"
        },
        "outputId": "6134c17c-25d2-4b92-c8d0-27bae875aae5"
      },
      "execution_count": 16,
      "outputs": [
        {
          "output_type": "stream",
          "name": "stdout",
          "text": [
            "Simple Baseline 0.4230425\n"
          ]
        }
      ]
    },
    {
      "cell_type": "markdown",
      "source": [
        "## Gradient Boosting Classifier"
      ],
      "metadata": {
        "id": "iguX8hpBO767"
      }
    },
    {
      "cell_type": "code",
      "source": [
        "gbc_model = make_pipeline(\n",
        "    XGBClassifier(n_estimators=5)\n",
        ")\n",
        "\n",
        "gbc_model.fit(X_train_C, y_train_C)"
      ],
      "metadata": {
        "id": "QTJuEEI9O7ab",
        "colab": {
          "base_uri": "https://localhost:8080/"
        },
        "outputId": "7e3806a3-b08a-4c04-8325-197f61ed2567"
      },
      "execution_count": 17,
      "outputs": [
        {
          "output_type": "execute_result",
          "data": {
            "text/plain": [
              "Pipeline(steps=[('xgbclassifier',\n",
              "                 XGBClassifier(n_estimators=5, objective='multi:softprob'))])"
            ]
          },
          "metadata": {},
          "execution_count": 17
        }
      ]
    },
    {
      "cell_type": "markdown",
      "source": [
        "## Build Fully Connected Neural Network\n",
        "Use early stopping and dropout\n",
        "Use Relu activation function\n",
        "Use softmax for output\n",
        "multiclass crossentropy for loss function"
      ],
      "metadata": {
        "id": "6Ul_GKdpzvme"
      }
    },
    {
      "cell_type": "code",
      "source": [
        "callback = tf.keras.callbacks.EarlyStopping(monitor='loss', patience=3)\n",
        "\n",
        "model = Sequential()\n",
        "model.add(Dense(100, input_dim=12, activation='relu'))\n",
        "model.add(Dropout(0.2))\n",
        "model.add(Dense(100, activation='relu'))\n",
        "model.add(Dropout(0.2))\n",
        "model.add(Dense(100, activation='relu'))\n",
        "model.add(Dropout(0.2))\n",
        "model.add(Dense(3, activation='softmax'))\n",
        "\n",
        "model.compile(optimizer='Adam', \n",
        "                  loss='sparse_categorical_crossentropy',\n",
        "                  metrics=['accuracy'])"
      ],
      "metadata": {
        "id": "pGNF9U2wzq3M"
      },
      "execution_count": 18,
      "outputs": []
    },
    {
      "cell_type": "code",
      "source": [
        "model.fit(X_train, y_train, \n",
        "          validation_data=(X_test, y_test),\n",
        "          workers=-1, \n",
        "          epochs=2, \n",
        "          batch_size=16, \n",
        "          verbose=1,\n",
        "          shuffle=True,\n",
        "          callbacks=[callback])"
      ],
      "metadata": {
        "colab": {
          "base_uri": "https://localhost:8080/"
        },
        "id": "Ua8SYtFaFfud",
        "outputId": "17eb02c6-8bda-491b-ecfb-02543cbd2e27"
      },
      "execution_count": 19,
      "outputs": [
        {
          "output_type": "stream",
          "name": "stdout",
          "text": [
            "Epoch 1/2\n",
            "50000/50000 [==============================] - 161s 3ms/step - loss: 0.4699 - accuracy: 0.5607 - val_loss: 0.3894 - val_accuracy: 0.5780\n",
            "Epoch 2/2\n",
            "50000/50000 [==============================] - 163s 3ms/step - loss: 0.4249 - accuracy: 0.5870 - val_loss: 0.3959 - val_accuracy: 0.5826\n"
          ]
        },
        {
          "output_type": "execute_result",
          "data": {
            "text/plain": [
              "<keras.callbacks.History at 0x7f120ce56dd0>"
            ]
          },
          "metadata": {},
          "execution_count": 19
        }
      ]
    },
    {
      "cell_type": "markdown",
      "source": [
        "## Sample MLPClassifier SciKit Learn's Neural to so I can look at SHAP vizualizations"
      ],
      "metadata": {
        "id": "X1AYBGpSc-Gz"
      }
    },
    {
      "cell_type": "code",
      "source": [
        "model_mlpc = make_pipeline(\n",
        "    StandardScaler(),\n",
        "    MLPClassifier(hidden_layer_sizes=(5,),activation='logistic', max_iter=10000,learning_rate='invscaling',random_state=0)\n",
        ")\n",
        "\n",
        "model_mlpc.fit(X_train_C,y_train_C)"
      ],
      "metadata": {
        "id": "_9IqiTMqc9Rc",
        "colab": {
          "base_uri": "https://localhost:8080/"
        },
        "outputId": "19e2c2d5-926b-42d5-a490-1058053b166f"
      },
      "execution_count": 27,
      "outputs": [
        {
          "output_type": "execute_result",
          "data": {
            "text/plain": [
              "Pipeline(steps=[('standardscaler', StandardScaler()),\n",
              "                ('mlpclassifier',\n",
              "                 MLPClassifier(activation='logistic', hidden_layer_sizes=(5,),\n",
              "                               learning_rate='invscaling', max_iter=10000,\n",
              "                               random_state=0))])"
            ]
          },
          "metadata": {},
          "execution_count": 27
        }
      ]
    },
    {
      "cell_type": "markdown",
      "source": [
        "## Check Scores\n",
        "\n",
        "* XGBoost"
      ],
      "metadata": {
        "id": "djCt3sK_JoI3"
      }
    },
    {
      "cell_type": "code",
      "source": [
        "print('Test Score', accuracy_score(y_train_C, gbc_model.predict(X_train_C)))\n",
        "print('Val Score', accuracy_score(y_test_C, gbc_model.predict(X_test_C)))"
      ],
      "metadata": {
        "id": "tpSTbA8qJr1D",
        "colab": {
          "base_uri": "https://localhost:8080/"
        },
        "outputId": "af21c5f1-d633-4e68-93aa-205869ded9d5"
      },
      "execution_count": 20,
      "outputs": [
        {
          "output_type": "stream",
          "name": "stdout",
          "text": [
            "Test Score 0.50540625\n",
            "Val Score 0.50571\n"
          ]
        }
      ]
    },
    {
      "cell_type": "markdown",
      "source": [
        "* MLPClassifier Score"
      ],
      "metadata": {
        "id": "iNajIwamr73Q"
      }
    },
    {
      "cell_type": "code",
      "source": [
        "print('Test Score', accuracy_score(y_train_C, model_mlpc.predict(X_train_C)))\n",
        "print('Val Score', accuracy_score(y_test_C, model_mlpc.predict(X_test_C)))"
      ],
      "metadata": {
        "colab": {
          "base_uri": "https://localhost:8080/"
        },
        "id": "OQiVWml5rwTg",
        "outputId": "0c2fe4ff-b5b8-4269-a7d5-85aa9f609084"
      },
      "execution_count": 38,
      "outputs": [
        {
          "output_type": "stream",
          "name": "stdout",
          "text": [
            "Test Score 0.70181375\n",
            "Val Score 0.702235\n"
          ]
        }
      ]
    },
    {
      "cell_type": "markdown",
      "source": [
        "# Hyperparameter Tuning\n",
        "* XGBoost\n",
        "* RNN Network"
      ],
      "metadata": {
        "id": "bUf2gC6dJsXr"
      }
    },
    {
      "cell_type": "code",
      "source": [
        ""
      ],
      "metadata": {
        "id": "5Qsipm5AJuhh"
      },
      "execution_count": 20,
      "outputs": []
    },
    {
      "cell_type": "code",
      "source": [
        ""
      ],
      "metadata": {
        "id": "1S8tPAiZ6CRV"
      },
      "execution_count": 20,
      "outputs": []
    },
    {
      "cell_type": "markdown",
      "source": [
        "### GBC"
      ],
      "metadata": {
        "id": "EM7a3XbV3MeN"
      }
    },
    {
      "cell_type": "code",
      "source": [
        "importances = gbc_model.named_steps.xgbclassifier.feature_importances_\n",
        "features = X_train_C.columns\n",
        "pd.Series(importances, index=features).sort_values().tail(10).plot(kind='barh');"
      ],
      "metadata": {
        "colab": {
          "base_uri": "https://localhost:8080/",
          "height": 265
        },
        "id": "Z5Kbjdgj05mc",
        "outputId": "7bc711ec-b628-4d18-b2f7-593878d3ff35"
      },
      "execution_count": 21,
      "outputs": [
        {
          "output_type": "display_data",
          "data": {
            "image/png": "[encoded data removed]",
            "text/plain": [
              "<Figure size 432x288 with 1 Axes>"
            ]
          },
          "metadata": {
            "needs_background": "light"
          }
        }
      ]
    },
    {
      "cell_type": "markdown",
      "source": [
        "### GBC CM"
      ],
      "metadata": {
        "id": "Tb9agG2J3Png"
      }
    },
    {
      "cell_type": "code",
      "source": [
        "GBC = plot_confusion_matrix(\n",
        "    gbc_model,\n",
        "    X_test_C,\n",
        "    y_test_C,\n",
        "    values_format = '.0f',\n",
        "    display_labels = ['very delayed', 'delayed', 'on time']\n",
        "\n",
        ");"
      ],
      "metadata": {
        "colab": {
          "base_uri": "https://localhost:8080/",
          "height": 336
        },
        "id": "QbCJW0B13SSz",
        "outputId": "bd97946a-9b44-49bb-bcce-54c522e1ac5c"
      },
      "execution_count": 22,
      "outputs": [
        {
          "output_type": "stream",
          "name": "stderr",
          "text": [
            "/usr/local/lib/python3.7/dist-packages/sklearn/utils/deprecation.py:87: FutureWarning: Function plot_confusion_matrix is deprecated; Function `plot_confusion_matrix` is deprecated in 1.0 and will be removed in 1.2. Use one of the class methods: ConfusionMatrixDisplay.from_predictions or ConfusionMatrixDisplay.from_estimator.\n",
            "  warnings.warn(msg, category=FutureWarning)\n"
          ]
        },
        {
          "output_type": "display_data",
          "data": {
            "image/png": "[encoded data removed]",
            "text/plain": [
              "<Figure size 432x288 with 2 Axes>"
            ]
          },
          "metadata": {
            "needs_background": "light"
          }
        }
      ]
    },
    {
      "cell_type": "code",
      "source": [
        "print(classification_report(y_test_C,\n",
        "                            gbc_model.predict(X_test_C),\n",
        "                            target_names = ['very delayed', 'delayed', 'on time']))"
      ],
      "metadata": {
        "id": "k4UZq1Gh4LYz",
        "colab": {
          "base_uri": "https://localhost:8080/"
        },
        "outputId": "03c2b250-758f-4555-c5c2-4412e8bbc38c"
      },
      "execution_count": 23,
      "outputs": [
        {
          "output_type": "stream",
          "name": "stdout",
          "text": [
            "              precision    recall  f1-score   support\n",
            "\n",
            "very delayed       0.49      0.45      0.47     63250\n",
            "     delayed       0.40      0.04      0.08     52027\n",
            "     on time       0.52      0.83      0.64     84723\n",
            "\n",
            "    accuracy                           0.51    200000\n",
            "   macro avg       0.47      0.44      0.40    200000\n",
            "weighted avg       0.48      0.51      0.44    200000\n",
            "\n"
          ]
        }
      ]
    },
    {
      "cell_type": "markdown",
      "source": [
        "### SHAP Visualizations for MLP Model"
      ],
      "metadata": {
        "id": "02mGRMRZfDBy"
      }
    },
    {
      "cell_type": "code",
      "source": [
        "explainer = shap.KernelExplainer(model_mlpc.predict, X_train_C)"
      ],
      "metadata": {
        "id": "ERFwCCXwD62u"
      },
      "execution_count": null,
      "outputs": []
    },
    {
      "cell_type": "code",
      "source": [
        "#shap_values = explainer.shap_values(X_test_C, nsamples=12)"
      ],
      "metadata": {
        "id": "tc6H7oytISoy"
      },
      "execution_count": 39,
      "outputs": []
    },
    {
      "cell_type": "code",
      "source": [
        ""
      ],
      "metadata": {
        "id": "S4g-MCHKsEWv"
      },
      "execution_count": null,
      "outputs": []
    }
  ]
}