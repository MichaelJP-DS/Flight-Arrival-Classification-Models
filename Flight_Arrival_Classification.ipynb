{
  "nbformat": 4,
  "nbformat_minor": 0,
  "metadata": {
    "colab": {
      "name": "Flight Arrival Classification.ipynb",
      "provenance": [],
      "collapsed_sections": [],
      "machine_shape": "hm",
      "authorship_tag": "ABX9TyM0SvxnbOXC7DwAup/nYJik",
      "include_colab_link": true
    },
    "kernelspec": {
      "name": "python3",
      "display_name": "Python 3"
    },
    "language_info": {
      "name": "python"
    }
  },
  "cells": [
    {
      "cell_type": "markdown",
      "metadata": {
        "id": "view-in-github",
        "colab_type": "text"
      },
      "source": [
        "<a href=\"https://colab.research.google.com/github/MichaelJP-DS/Flight-Arrival-Classification-Models/blob/main/Flight_Arrival_Classification.ipynb\" target=\"_parent\"><img src=\"https://colab.research.google.com/assets/colab-badge.svg\" alt=\"Open In Colab\"/></a>"
      ]
    },
    {
      "cell_type": "markdown",
      "source": [
        "# Flight Arrival Classification Models\n",
        "\n",
        "Working with different models to predict arrival times of flights from 2015\n",
        "\n",
        "## Classes\n",
        "\n",
        "1. More Than 10 Minutes Early\n",
        "2. 10 Minutes Early to Exacly on Time\n",
        "3. On Time and Up to 10 Minutes Late\n",
        "4. More Than 10 Minutes Late\n",
        "\n",
        "# Project Flow\n",
        "\n",
        "Select Data Set\n",
        "\n",
        "* Read in Data Set\n",
        "* Set up wrangle function for cleaning and normalization\n",
        "* Use Scikit-Learn to split data for training and validation\n",
        "* Establish a Baseline\n",
        "* Set up models\n",
        "* Test Accuracy\n",
        "* Utilize Hyperparameter Tuning\n",
        "* Visualize Permutation Importances\n",
        "* Use Confusion Matrix and other tools to visualize results\n",
        "\n",
        "\n",
        "# Baseline\n",
        "\n",
        "* Use value counts method to set baseline\n",
        "\n",
        "\n",
        "# Considerations\n",
        "\n",
        "* Data Leakage\n",
        "\n",
        "It's possible the departure delay is potentially too much leakage.  I did trim out data where the delay was greater than 30 minutes.  This is a little Bayesian, but I expect departure delays are possible and flights are still on time.\n",
        "\n",
        "\n",
        "* Model Uses\n",
        "\n",
        "\n",
        "\n",
        "* Other Uses?\n",
        "\n",
        "Feel free to DM me on LinkedIn and let me know other ways the model might be valuable."
      ],
      "metadata": {
        "id": "zADPgNJsD7BP"
      }
    },
    {
      "cell_type": "code",
      "execution_count": 1,
      "metadata": {
        "colab": {
          "base_uri": "https://localhost:8080/"
        },
        "id": "6ff5gVrgCIVC",
        "outputId": "cb8cf301-b6ca-4174-cb05-2c8be7e32f7c"
      },
      "outputs": [
        {
          "output_type": "stream",
          "name": "stdout",
          "text": [
            "Mounted at /content/drive\n"
          ]
        }
      ],
      "source": [
        "from google.colab import drive\n",
        "drive.mount('/content/drive')"
      ]
    },
    {
      "cell_type": "code",
      "source": [
        "# Import Statements\n",
        "\n",
        "# Libraries\n",
        "import pandas as pd\n",
        "import numpy as np\n",
        "\n",
        "# Data Processing\n",
        "from sklearn.preprocessing import minmax_scale\n",
        "from sklearn import preprocessing\n",
        "from sklearn.model_selection import train_test_split\n",
        "\n",
        "# ML Boosted Model\n",
        "from xgboost import XGBClassifier\n",
        "from sklearn.pipeline import make_pipeline\n",
        "from sklearn.metrics import accuracy_score\n",
        "\n",
        "# Neural Network/ML\n",
        "import tensorflow as tf\n",
        "from tensorflow.keras.preprocessing import sequence\n",
        "from tensorflow.keras.models import Sequential\n",
        "from tensorflow.keras.layers import Dense, Embedding\n",
        "from tensorflow.keras.layers import LSTM\n",
        "from tensorflow.keras.optimizers import Adam\n",
        "from tensorflow.keras.activations import relu, softmax\n",
        "from keras.layers import Dropout\n",
        "\n",
        "# Viz & Analysis\n",
        "from tensorflow.keras.callbacks import TensorBoard\n",
        "from sklearn.metrics import confusion_matrix\n",
        "import seaborn as sns\n",
        "from sklearn.metrics import plot_confusion_matrix, classification_report\n",
        "\n"
      ],
      "metadata": {
        "id": "wDPeaFetCUpU"
      },
      "execution_count": 92,
      "outputs": []
    },
    {
      "cell_type": "code",
      "source": [
        "%load_ext tensorboard"
      ],
      "metadata": {
        "colab": {
          "base_uri": "https://localhost:8080/"
        },
        "id": "9mG5tKdq_9lO",
        "outputId": "1338bede-0cc0-4745-aa68-c2bedca7c1e8"
      },
      "execution_count": null,
      "outputs": [
        {
          "output_type": "stream",
          "name": "stdout",
          "text": [
            "The tensorboard extension is already loaded. To reload it, use:\n",
            "  %reload_ext tensorboard\n"
          ]
        }
      ]
    },
    {
      "cell_type": "code",
      "source": [
        "df_flights = pd.read_csv('/content/drive/MyDrive/Classification Data/flights.csv', low_memory=False)"
      ],
      "metadata": {
        "id": "OyzFfwu8Cssl"
      },
      "execution_count": 3,
      "outputs": []
    },
    {
      "cell_type": "code",
      "source": [
        "df_flights.head()"
      ],
      "metadata": {
        "colab": {
          "base_uri": "https://localhost:8080/",
          "height": 270
        },
        "id": "UhZ7DkXn30nK",
        "outputId": "b779918f-0ff8-49bd-ba41-573d8e128d0e"
      },
      "execution_count": null,
      "outputs": [
        {
          "output_type": "execute_result",
          "data": {
            "text/html": [
              "\n",
              "  <div id=\"df-cb405f26-529e-4f9a-864c-776c194c98a3\">\n",
              "    <div class=\"colab-df-container\">\n",
              "      <div>\n",
              "<style scoped>\n",
              "    .dataframe tbody tr th:only-of-type {\n",
              "        vertical-align: middle;\n",
              "    }\n",
              "\n",
              "    .dataframe tbody tr th {\n",
              "        vertical-align: top;\n",
              "    }\n",
              "\n",
              "    .dataframe thead th {\n",
              "        text-align: right;\n",
              "    }\n",
              "</style>\n",
              "<table border=\"1\" class=\"dataframe\">\n",
              "  <thead>\n",
              "    <tr style=\"text-align: right;\">\n",
              "      <th></th>\n",
              "      <th>YEAR</th>\n",
              "      <th>MONTH</th>\n",
              "      <th>DAY</th>\n",
              "      <th>DAY_OF_WEEK</th>\n",
              "      <th>AIRLINE</th>\n",
              "      <th>FLIGHT_NUMBER</th>\n",
              "      <th>TAIL_NUMBER</th>\n",
              "      <th>ORIGIN_AIRPORT</th>\n",
              "      <th>DESTINATION_AIRPORT</th>\n",
              "      <th>SCHEDULED_DEPARTURE</th>\n",
              "      <th>DEPARTURE_TIME</th>\n",
              "      <th>DEPARTURE_DELAY</th>\n",
              "      <th>TAXI_OUT</th>\n",
              "      <th>WHEELS_OFF</th>\n",
              "      <th>SCHEDULED_TIME</th>\n",
              "      <th>ELAPSED_TIME</th>\n",
              "      <th>AIR_TIME</th>\n",
              "      <th>DISTANCE</th>\n",
              "      <th>WHEELS_ON</th>\n",
              "      <th>TAXI_IN</th>\n",
              "      <th>SCHEDULED_ARRIVAL</th>\n",
              "      <th>ARRIVAL_TIME</th>\n",
              "      <th>ARRIVAL_DELAY</th>\n",
              "      <th>DIVERTED</th>\n",
              "      <th>CANCELLED</th>\n",
              "      <th>CANCELLATION_REASON</th>\n",
              "      <th>AIR_SYSTEM_DELAY</th>\n",
              "      <th>SECURITY_DELAY</th>\n",
              "      <th>AIRLINE_DELAY</th>\n",
              "      <th>LATE_AIRCRAFT_DELAY</th>\n",
              "      <th>WEATHER_DELAY</th>\n",
              "    </tr>\n",
              "  </thead>\n",
              "  <tbody>\n",
              "    <tr>\n",
              "      <th>0</th>\n",
              "      <td>2015</td>\n",
              "      <td>1</td>\n",
              "      <td>1</td>\n",
              "      <td>4</td>\n",
              "      <td>AS</td>\n",
              "      <td>98</td>\n",
              "      <td>N407AS</td>\n",
              "      <td>ANC</td>\n",
              "      <td>SEA</td>\n",
              "      <td>5</td>\n",
              "      <td>2354.0</td>\n",
              "      <td>-11.0</td>\n",
              "      <td>21.0</td>\n",
              "      <td>15.0</td>\n",
              "      <td>205.0</td>\n",
              "      <td>194.0</td>\n",
              "      <td>169.0</td>\n",
              "      <td>1448</td>\n",
              "      <td>404.0</td>\n",
              "      <td>4.0</td>\n",
              "      <td>430</td>\n",
              "      <td>408.0</td>\n",
              "      <td>-22.0</td>\n",
              "      <td>0</td>\n",
              "      <td>0</td>\n",
              "      <td>NaN</td>\n",
              "      <td>NaN</td>\n",
              "      <td>NaN</td>\n",
              "      <td>NaN</td>\n",
              "      <td>NaN</td>\n",
              "      <td>NaN</td>\n",
              "    </tr>\n",
              "    <tr>\n",
              "      <th>1</th>\n",
              "      <td>2015</td>\n",
              "      <td>1</td>\n",
              "      <td>1</td>\n",
              "      <td>4</td>\n",
              "      <td>AA</td>\n",
              "      <td>2336</td>\n",
              "      <td>N3KUAA</td>\n",
              "      <td>LAX</td>\n",
              "      <td>PBI</td>\n",
              "      <td>10</td>\n",
              "      <td>2.0</td>\n",
              "      <td>-8.0</td>\n",
              "      <td>12.0</td>\n",
              "      <td>14.0</td>\n",
              "      <td>280.0</td>\n",
              "      <td>279.0</td>\n",
              "      <td>263.0</td>\n",
              "      <td>2330</td>\n",
              "      <td>737.0</td>\n",
              "      <td>4.0</td>\n",
              "      <td>750</td>\n",
              "      <td>741.0</td>\n",
              "      <td>-9.0</td>\n",
              "      <td>0</td>\n",
              "      <td>0</td>\n",
              "      <td>NaN</td>\n",
              "      <td>NaN</td>\n",
              "      <td>NaN</td>\n",
              "      <td>NaN</td>\n",
              "      <td>NaN</td>\n",
              "      <td>NaN</td>\n",
              "    </tr>\n",
              "    <tr>\n",
              "      <th>2</th>\n",
              "      <td>2015</td>\n",
              "      <td>1</td>\n",
              "      <td>1</td>\n",
              "      <td>4</td>\n",
              "      <td>US</td>\n",
              "      <td>840</td>\n",
              "      <td>N171US</td>\n",
              "      <td>SFO</td>\n",
              "      <td>CLT</td>\n",
              "      <td>20</td>\n",
              "      <td>18.0</td>\n",
              "      <td>-2.0</td>\n",
              "      <td>16.0</td>\n",
              "      <td>34.0</td>\n",
              "      <td>286.0</td>\n",
              "      <td>293.0</td>\n",
              "      <td>266.0</td>\n",
              "      <td>2296</td>\n",
              "      <td>800.0</td>\n",
              "      <td>11.0</td>\n",
              "      <td>806</td>\n",
              "      <td>811.0</td>\n",
              "      <td>5.0</td>\n",
              "      <td>0</td>\n",
              "      <td>0</td>\n",
              "      <td>NaN</td>\n",
              "      <td>NaN</td>\n",
              "      <td>NaN</td>\n",
              "      <td>NaN</td>\n",
              "      <td>NaN</td>\n",
              "      <td>NaN</td>\n",
              "    </tr>\n",
              "    <tr>\n",
              "      <th>3</th>\n",
              "      <td>2015</td>\n",
              "      <td>1</td>\n",
              "      <td>1</td>\n",
              "      <td>4</td>\n",
              "      <td>AA</td>\n",
              "      <td>258</td>\n",
              "      <td>N3HYAA</td>\n",
              "      <td>LAX</td>\n",
              "      <td>MIA</td>\n",
              "      <td>20</td>\n",
              "      <td>15.0</td>\n",
              "      <td>-5.0</td>\n",
              "      <td>15.0</td>\n",
              "      <td>30.0</td>\n",
              "      <td>285.0</td>\n",
              "      <td>281.0</td>\n",
              "      <td>258.0</td>\n",
              "      <td>2342</td>\n",
              "      <td>748.0</td>\n",
              "      <td>8.0</td>\n",
              "      <td>805</td>\n",
              "      <td>756.0</td>\n",
              "      <td>-9.0</td>\n",
              "      <td>0</td>\n",
              "      <td>0</td>\n",
              "      <td>NaN</td>\n",
              "      <td>NaN</td>\n",
              "      <td>NaN</td>\n",
              "      <td>NaN</td>\n",
              "      <td>NaN</td>\n",
              "      <td>NaN</td>\n",
              "    </tr>\n",
              "    <tr>\n",
              "      <th>4</th>\n",
              "      <td>2015</td>\n",
              "      <td>1</td>\n",
              "      <td>1</td>\n",
              "      <td>4</td>\n",
              "      <td>AS</td>\n",
              "      <td>135</td>\n",
              "      <td>N527AS</td>\n",
              "      <td>SEA</td>\n",
              "      <td>ANC</td>\n",
              "      <td>25</td>\n",
              "      <td>24.0</td>\n",
              "      <td>-1.0</td>\n",
              "      <td>11.0</td>\n",
              "      <td>35.0</td>\n",
              "      <td>235.0</td>\n",
              "      <td>215.0</td>\n",
              "      <td>199.0</td>\n",
              "      <td>1448</td>\n",
              "      <td>254.0</td>\n",
              "      <td>5.0</td>\n",
              "      <td>320</td>\n",
              "      <td>259.0</td>\n",
              "      <td>-21.0</td>\n",
              "      <td>0</td>\n",
              "      <td>0</td>\n",
              "      <td>NaN</td>\n",
              "      <td>NaN</td>\n",
              "      <td>NaN</td>\n",
              "      <td>NaN</td>\n",
              "      <td>NaN</td>\n",
              "      <td>NaN</td>\n",
              "    </tr>\n",
              "  </tbody>\n",
              "</table>\n",
              "</div>\n",
              "      <button class=\"colab-df-convert\" onclick=\"convertToInteractive('df-cb405f26-529e-4f9a-864c-776c194c98a3')\"\n",
              "              title=\"Convert this dataframe to an interactive table.\"\n",
              "              style=\"display:none;\">\n",
              "        \n",
              "  <svg xmlns=\"http://www.w3.org/2000/svg\" height=\"24px\"viewBox=\"0 0 24 24\"\n",
              "       width=\"24px\">\n",
              "    <path d=\"M0 0h24v24H0V0z\" fill=\"none\"/>\n",
              "    <path d=\"M18.56 5.44l.94 2.06.94-2.06 2.06-.94-2.06-.94-.94-2.06-.94 2.06-2.06.94zm-11 1L8.5 8.5l.94-2.06 2.06-.94-2.06-.94L8.5 2.5l-.94 2.06-2.06.94zm10 10l.94 2.06.94-2.06 2.06-.94-2.06-.94-.94-2.06-.94 2.06-2.06.94z\"/><path d=\"M17.41 7.96l-1.37-1.37c-.4-.4-.92-.59-1.43-.59-.52 0-1.04.2-1.43.59L10.3 9.45l-7.72 7.72c-.78.78-.78 2.05 0 2.83L4 21.41c.39.39.9.59 1.41.59.51 0 1.02-.2 1.41-.59l7.78-7.78 2.81-2.81c.8-.78.8-2.07 0-2.86zM5.41 20L4 18.59l7.72-7.72 1.47 1.35L5.41 20z\"/>\n",
              "  </svg>\n",
              "      </button>\n",
              "      \n",
              "  <style>\n",
              "    .colab-df-container {\n",
              "      display:flex;\n",
              "      flex-wrap:wrap;\n",
              "      gap: 12px;\n",
              "    }\n",
              "\n",
              "    .colab-df-convert {\n",
              "      background-color: #E8F0FE;\n",
              "      border: none;\n",
              "      border-radius: 50%;\n",
              "      cursor: pointer;\n",
              "      display: none;\n",
              "      fill: #1967D2;\n",
              "      height: 32px;\n",
              "      padding: 0 0 0 0;\n",
              "      width: 32px;\n",
              "    }\n",
              "\n",
              "    .colab-df-convert:hover {\n",
              "      background-color: #E2EBFA;\n",
              "      box-shadow: 0px 1px 2px rgba(60, 64, 67, 0.3), 0px 1px 3px 1px rgba(60, 64, 67, 0.15);\n",
              "      fill: #174EA6;\n",
              "    }\n",
              "\n",
              "    [theme=dark] .colab-df-convert {\n",
              "      background-color: #3B4455;\n",
              "      fill: #D2E3FC;\n",
              "    }\n",
              "\n",
              "    [theme=dark] .colab-df-convert:hover {\n",
              "      background-color: #434B5C;\n",
              "      box-shadow: 0px 1px 3px 1px rgba(0, 0, 0, 0.15);\n",
              "      filter: drop-shadow(0px 1px 2px rgba(0, 0, 0, 0.3));\n",
              "      fill: #FFFFFF;\n",
              "    }\n",
              "  </style>\n",
              "\n",
              "      <script>\n",
              "        const buttonEl =\n",
              "          document.querySelector('#df-cb405f26-529e-4f9a-864c-776c194c98a3 button.colab-df-convert');\n",
              "        buttonEl.style.display =\n",
              "          google.colab.kernel.accessAllowed ? 'block' : 'none';\n",
              "\n",
              "        async function convertToInteractive(key) {\n",
              "          const element = document.querySelector('#df-cb405f26-529e-4f9a-864c-776c194c98a3');\n",
              "          const dataTable =\n",
              "            await google.colab.kernel.invokeFunction('convertToInteractive',\n",
              "                                                     [key], {});\n",
              "          if (!dataTable) return;\n",
              "\n",
              "          const docLinkHtml = 'Like what you see? Visit the ' +\n",
              "            '<a target=\"_blank\" href=https://colab.research.google.com/notebooks/data_table.ipynb>data table notebook</a>'\n",
              "            + ' to learn more about interactive tables.';\n",
              "          element.innerHTML = '';\n",
              "          dataTable['output_type'] = 'display_data';\n",
              "          await google.colab.output.renderOutput(dataTable, element);\n",
              "          const docLink = document.createElement('div');\n",
              "          docLink.innerHTML = docLinkHtml;\n",
              "          element.appendChild(docLink);\n",
              "        }\n",
              "      </script>\n",
              "    </div>\n",
              "  </div>\n",
              "  "
            ],
            "text/plain": [
              "   YEAR  MONTH  DAY  ...  AIRLINE_DELAY LATE_AIRCRAFT_DELAY  WEATHER_DELAY\n",
              "0  2015      1    1  ...            NaN                 NaN            NaN\n",
              "1  2015      1    1  ...            NaN                 NaN            NaN\n",
              "2  2015      1    1  ...            NaN                 NaN            NaN\n",
              "3  2015      1    1  ...            NaN                 NaN            NaN\n",
              "4  2015      1    1  ...            NaN                 NaN            NaN\n",
              "\n",
              "[5 rows x 31 columns]"
            ]
          },
          "metadata": {},
          "execution_count": 162
        }
      ]
    },
    {
      "cell_type": "markdown",
      "source": [
        "## Wrangle Function for NN w/ data normalization"
      ],
      "metadata": {
        "id": "sPH4TgLdzV_C"
      }
    },
    {
      "cell_type": "code",
      "source": [
        "def wrangle_neuralN(df):\n",
        "\n",
        "  # Eliminate columns that may result in data leakage\n",
        "  df = df.drop(columns= ['WHEELS_OFF', 'ELAPSED_TIME', 'AIR_TIME', 'WHEELS_ON', 'ARRIVAL_TIME', 'YEAR', 'DAY'])\n",
        "\n",
        "  # Drop rows when flight was cancelled but keep data when flight was not\n",
        "  df = df.drop(df[df.CANCELLED == 1].index)\n",
        "\n",
        "  df = df.drop(df[df.DIVERTED == 1].index)\n",
        "\n",
        "  # Now drop cancelled column the resulting rows where not impacted by cancelled flight\n",
        "  df = df.drop(columns= ['CANCELLED', 'CANCELLATION_REASON'])\n",
        "\n",
        "  # Drop rows where the flight is delayed greater than 15 minutes - too leaky may tinker with this\n",
        "  #df = df.drop(df[df.DEPARTURE_DELAY >= 15.0].index)\n",
        "\n",
        "  # Drop rows related to reason for departure delay & high null value count.\n",
        "  df = df.drop(columns= ['AIR_SYSTEM_DELAY', 'SECURITY_DELAY', 'LATE_AIRCRAFT_DELAY', 'WEATHER_DELAY', 'AIRLINE_DELAY','DIVERTED', 'DEPARTURE_DELAY'])\n",
        "\n",
        "  # Drop High Cardinality Column\n",
        "  df = df.drop(columns= ['TAIL_NUMBER', 'FLIGHT_NUMBER'])\n",
        "\n",
        "  # Label encode Airline, Origin Airport and Destination Airport\n",
        "  enc = preprocessing.LabelEncoder()\n",
        "  df['AIRLINE'] = enc.fit_transform(df['AIRLINE'])\n",
        "  df['ORIGIN_AIRPORT'] = enc.fit_transform(df['ORIGIN_AIRPORT'])\n",
        "  df['DESTINATION_AIRPORT'] = enc.fit_transform(df['DESTINATION_AIRPORT'])\n",
        "\n",
        "  # Impute limited null values with column mean\n",
        "  df['ARRIVAL_DELAY'] = df['ARRIVAL_DELAY'].fillna(4)\n",
        "  df['TAXI_IN'] = df['TAXI_IN'].fillna(7.4)  \n",
        "\n",
        "  # Set up target column in classes\n",
        "  df.loc[df['ARRIVAL_DELAY'] <= -10.0, 'ARRIVAL' ] = 0\n",
        "  df.loc[(df['ARRIVAL_DELAY'] > -10.0) & (df['ARRIVAL_DELAY'] <= 0.0), 'ARRIVAL'] = 1\n",
        "  df.loc[(df['ARRIVAL_DELAY'] > 0), 'ARRIVAL'] = 2\n",
        "\n",
        "  \n",
        "  # Convert arrival to Integer for NN\n",
        "  df['ARRIVAL'] = df['ARRIVAL'].astype(int)\n",
        "\n",
        "  # Drop modified column\n",
        "  df = df.drop(columns='ARRIVAL_DELAY')\n",
        "\n",
        "  # Normalize data for processing\n",
        "\n",
        "  df['MONTH'] = minmax_scale(df['MONTH'])      \n",
        "  df['DAY_OF_WEEK'] = minmax_scale(df['DAY_OF_WEEK'])\n",
        "  df['AIRLINE'] = minmax_scale(df['AIRLINE'])\n",
        "  df['ORIGIN_AIRPORT'] = minmax_scale(df['ORIGIN_AIRPORT'])\n",
        "  df['DESTINATION_AIRPORT'] = minmax_scale(df['DESTINATION_AIRPORT'])\n",
        "  df['SCHEDULED_DEPARTURE'] = minmax_scale(df['SCHEDULED_DEPARTURE'])\n",
        "  df['DEPARTURE_TIME'] = minmax_scale(df['DEPARTURE_TIME'])\n",
        "  #df['DEPARTURE_DELAY'] = minmax_scale(df['DEPARTURE_DELAY'])  \n",
        "  df['TAXI_OUT'] = minmax_scale(df['TAXI_OUT'])\n",
        "  df['SCHEDULED_TIME'] = minmax_scale(df['SCHEDULED_TIME'])      \n",
        "  df['DISTANCE'] = minmax_scale(df['DISTANCE'])            \n",
        "  df['TAXI_IN'] = minmax_scale(df['TAXI_IN'])                \n",
        "  df['SCHEDULED_ARRIVAL'] = minmax_scale(df['SCHEDULED_ARRIVAL'])\n",
        "  df['ARRIVAL'] = minmax_scale(df['ARRIVAL']) \n",
        "\n",
        "  df = df.iloc[0:1000000]               \n",
        "\n",
        "  return df"
      ],
      "metadata": {
        "id": "zaT0rgZMfwYD"
      },
      "execution_count": 75,
      "outputs": []
    },
    {
      "cell_type": "markdown",
      "source": [
        "## Wrangle Function for XGBClassifier non-normalized data"
      ],
      "metadata": {
        "id": "TV49aViNzZbj"
      }
    },
    {
      "cell_type": "code",
      "source": [
        "def wrangle_XGBClass(df):\n",
        "\n",
        "  # Eliminate columns that may result in data leakage\n",
        "  df = df.drop(columns= ['WHEELS_OFF', 'ELAPSED_TIME', 'AIR_TIME', 'WHEELS_ON', 'ARRIVAL_TIME', 'YEAR', 'DAY'])\n",
        "\n",
        "  # Drop rows when flight was cancelled but keep data when flight was not\n",
        "  df = df.drop(df[df.CANCELLED == 1].index)\n",
        "\n",
        "  df = df.drop(df[df.DIVERTED == 1].index)\n",
        "\n",
        "  # Now drop cancelled column the resulting rows where not impacted by cancelled flight\n",
        "  df = df.drop(columns= ['CANCELLED', 'CANCELLATION_REASON'])\n",
        "\n",
        "  # Drop rows where the flight is delayed greater than 15 minutes - too leaky may tinker with this\n",
        "  #df = df.drop(df[df.DEPARTURE_DELAY >= 15.0].index)\n",
        "\n",
        "  # Drop rows related to reason for departure delay & high null value count.\n",
        "  df = df.drop(columns= ['AIR_SYSTEM_DELAY', 'SECURITY_DELAY', 'LATE_AIRCRAFT_DELAY', 'WEATHER_DELAY', 'AIRLINE_DELAY','DIVERTED', 'DEPARTURE_DELAY'])\n",
        "\n",
        "  # Drop High Cardinality Column\n",
        "  df = df.drop(columns= ['TAIL_NUMBER', 'FLIGHT_NUMBER'])\n",
        "\n",
        "  # Label encode Airline, Origin Airport and Destination Airport\n",
        "  enc = preprocessing.LabelEncoder()\n",
        "  df['AIRLINE'] = enc.fit_transform(df['AIRLINE'])\n",
        "  df['ORIGIN_AIRPORT'] = enc.fit_transform(df['ORIGIN_AIRPORT'])\n",
        "  df['DESTINATION_AIRPORT'] = enc.fit_transform(df['DESTINATION_AIRPORT'])\n",
        "\n",
        "  # Impute limited null values with column mean\n",
        "  df['ARRIVAL_DELAY'] = df['ARRIVAL_DELAY'].fillna(4)\n",
        "  df['TAXI_IN'] = df['TAXI_IN'].fillna(7.4)  \n",
        "\n",
        "  # Set up target column in classes\n",
        "  df.loc[df['ARRIVAL_DELAY'] <= -10.0, 'ARRIVAL' ] = 0\n",
        "  df.loc[(df['ARRIVAL_DELAY'] > -10.0) & (df['ARRIVAL_DELAY'] <= 0.0), 'ARRIVAL'] = 1\n",
        "  df.loc[(df['ARRIVAL_DELAY'] > 0), 'ARRIVAL'] = 2\n",
        "\n",
        "  \n",
        "  # Convert arrival to Integer for NN\n",
        "  df['ARRIVAL'] = df['ARRIVAL'].astype(int)\n",
        "\n",
        "  # Drop modified column\n",
        "  df = df.drop(columns='ARRIVAL_DELAY')\n",
        "\n",
        "  df = df.iloc[0:1000000]               \n",
        "\n",
        "  return df"
      ],
      "metadata": {
        "id": "tK8hGnApxtp-"
      },
      "execution_count": 73,
      "outputs": []
    },
    {
      "cell_type": "markdown",
      "source": [
        "## Run dataframe wrangle function"
      ],
      "metadata": {
        "id": "YViy1D3S-Wog"
      }
    },
    {
      "cell_type": "code",
      "source": [
        "df_Neural_Net = wrangle_neuralN(df_flights)"
      ],
      "metadata": {
        "id": "rZ29G64A9dE_"
      },
      "execution_count": 76,
      "outputs": []
    },
    {
      "cell_type": "code",
      "source": [
        "df_Classifier = wrangle_XGBClass(df_flights)"
      ],
      "metadata": {
        "id": "vea54KJkx1Uk"
      },
      "execution_count": 77,
      "outputs": []
    },
    {
      "cell_type": "markdown",
      "source": [
        "## Quick Check for Null Values"
      ],
      "metadata": {
        "id": "ESK0CQvUycn6"
      }
    },
    {
      "cell_type": "code",
      "source": [
        "df_Neural_Net.isnull().sum()"
      ],
      "metadata": {
        "colab": {
          "base_uri": "https://localhost:8080/"
        },
        "id": "kSEuhPMuA2oN",
        "outputId": "ff439c41-e333-4fa3-ee91-27e0ff022673"
      },
      "execution_count": 78,
      "outputs": [
        {
          "output_type": "execute_result",
          "data": {
            "text/plain": [
              "MONTH                  0\n",
              "DAY_OF_WEEK            0\n",
              "AIRLINE                0\n",
              "ORIGIN_AIRPORT         0\n",
              "DESTINATION_AIRPORT    0\n",
              "SCHEDULED_DEPARTURE    0\n",
              "DEPARTURE_TIME         0\n",
              "TAXI_OUT               0\n",
              "SCHEDULED_TIME         0\n",
              "DISTANCE               0\n",
              "TAXI_IN                0\n",
              "SCHEDULED_ARRIVAL      0\n",
              "ARRIVAL                0\n",
              "dtype: int64"
            ]
          },
          "metadata": {},
          "execution_count": 78
        }
      ]
    },
    {
      "cell_type": "code",
      "source": [
        "df_Classifier.isnull().sum()"
      ],
      "metadata": {
        "colab": {
          "base_uri": "https://localhost:8080/"
        },
        "id": "UB29qUkP3tqJ",
        "outputId": "f36242d7-bbfe-4301-e002-72e1b3b6e82e"
      },
      "execution_count": 79,
      "outputs": [
        {
          "output_type": "execute_result",
          "data": {
            "text/plain": [
              "MONTH                  0\n",
              "DAY_OF_WEEK            0\n",
              "AIRLINE                0\n",
              "ORIGIN_AIRPORT         0\n",
              "DESTINATION_AIRPORT    0\n",
              "SCHEDULED_DEPARTURE    0\n",
              "DEPARTURE_TIME         0\n",
              "TAXI_OUT               0\n",
              "SCHEDULED_TIME         0\n",
              "DISTANCE               0\n",
              "TAXI_IN                0\n",
              "SCHEDULED_ARRIVAL      0\n",
              "ARRIVAL                0\n",
              "dtype: int64"
            ]
          },
          "metadata": {},
          "execution_count": 79
        }
      ]
    },
    {
      "cell_type": "markdown",
      "source": [
        "## Train, Test, Split NN"
      ],
      "metadata": {
        "id": "7RGYYa_axFKK"
      }
    },
    {
      "cell_type": "code",
      "source": [
        "y = df_Neural_Net['ARRIVAL']\n",
        "\n",
        "X = df_Neural_Net.drop(columns='ARRIVAL')"
      ],
      "metadata": {
        "id": "fGtwxe-ExIyP"
      },
      "execution_count": 80,
      "outputs": []
    },
    {
      "cell_type": "code",
      "source": [
        "X_train, X_test, y_train, y_test = train_test_split(X, y, test_size=0.2)"
      ],
      "metadata": {
        "id": "A1PElEKNxesI"
      },
      "execution_count": 81,
      "outputs": []
    },
    {
      "cell_type": "markdown",
      "source": [
        "# Train Test Split Classifier"
      ],
      "metadata": {
        "id": "UgcDz4jyyA7S"
      }
    },
    {
      "cell_type": "code",
      "source": [
        "y_C = df_Classifier['ARRIVAL']\n",
        "\n",
        "X_C = df_Classifier.drop(columns='ARRIVAL')"
      ],
      "metadata": {
        "id": "2gn1v7WYyFeb"
      },
      "execution_count": 82,
      "outputs": []
    },
    {
      "cell_type": "code",
      "source": [
        "X_train_C, X_test_C, y_train_C, y_test_C = train_test_split(X_C, y_C, test_size=0.2)"
      ],
      "metadata": {
        "id": "ERE-X-PLyuQ0"
      },
      "execution_count": 83,
      "outputs": []
    },
    {
      "cell_type": "markdown",
      "source": [
        "## Model Baseline"
      ],
      "metadata": {
        "id": "j0A1o9mWJ94Q"
      }
    },
    {
      "cell_type": "code",
      "source": [
        "BaseLine = y_train.value_counts(normalize=True).max()\n",
        "\n",
        "print('Simple Baseline', BaseLine)"
      ],
      "metadata": {
        "id": "DiiWdRD8KBqL",
        "colab": {
          "base_uri": "https://localhost:8080/"
        },
        "outputId": "5bbb1256-4517-4a66-f1d5-a8b50f0c57fe"
      },
      "execution_count": 88,
      "outputs": [
        {
          "output_type": "stream",
          "name": "stdout",
          "text": [
            "Simple Baseline 0.4222375\n"
          ]
        }
      ]
    },
    {
      "cell_type": "markdown",
      "source": [
        "## Gradient Boosting Classifier"
      ],
      "metadata": {
        "id": "iguX8hpBO767"
      }
    },
    {
      "cell_type": "code",
      "source": [
        "gbc_model = make_pipeline(\n",
        "    XGBClassifier(n_estimators=5)\n",
        ")\n",
        "\n",
        "gbc_model.fit(X_train_C, y_train_C)"
      ],
      "metadata": {
        "id": "QTJuEEI9O7ab",
        "colab": {
          "base_uri": "https://localhost:8080/"
        },
        "outputId": "1f7e49d7-f04e-4e8e-ba38-3e5c05e349b5"
      },
      "execution_count": 85,
      "outputs": [
        {
          "output_type": "execute_result",
          "data": {
            "text/plain": [
              "Pipeline(steps=[('xgbclassifier',\n",
              "                 XGBClassifier(n_estimators=5, objective='multi:softprob'))])"
            ]
          },
          "metadata": {},
          "execution_count": 85
        }
      ]
    },
    {
      "cell_type": "markdown",
      "source": [
        "## Build Fully Connected Neural Network\n",
        "Use early stopping and dropout\n",
        "Use Relu activation function\n",
        "Use softmax for output\n",
        "multiclass crossentropy for loss function"
      ],
      "metadata": {
        "id": "6Ul_GKdpzvme"
      }
    },
    {
      "cell_type": "code",
      "source": [
        "callback = tf.keras.callbacks.EarlyStopping(monitor='loss', patience=3)\n",
        "\n",
        "model = Sequential()\n",
        "model.add(Dense(100, input_dim=12, activation='relu'))\n",
        "model.add(Dropout(0.2))\n",
        "model.add(Dense(100, activation='relu'))\n",
        "model.add(Dropout(0.2))\n",
        "model.add(Dense(100, activation='relu'))\n",
        "model.add(Dropout(0.2))\n",
        "model.add(Dense(3, activation='softmax'))\n",
        "\n",
        "model.compile(optimizer='Adam', \n",
        "                  loss='sparse_categorical_crossentropy',\n",
        "                  metrics=['accuracy'])"
      ],
      "metadata": {
        "id": "pGNF9U2wzq3M"
      },
      "execution_count": 86,
      "outputs": []
    },
    {
      "cell_type": "code",
      "source": [
        "model.fit(X_train, y_train, \n",
        "          validation_data=(X_test, y_test),\n",
        "          workers=-1, \n",
        "          epochs=2, \n",
        "          batch_size=16, \n",
        "          verbose=1,\n",
        "          shuffle=True,\n",
        "          callbacks=[callback])"
      ],
      "metadata": {
        "colab": {
          "base_uri": "https://localhost:8080/"
        },
        "id": "Ua8SYtFaFfud",
        "outputId": "475e1659-f451-4cae-d254-f0de7bf4ac59"
      },
      "execution_count": 87,
      "outputs": [
        {
          "output_type": "stream",
          "name": "stdout",
          "text": [
            "Epoch 1/2\n",
            "50000/50000 [==============================] - 132s 3ms/step - loss: 0.4699 - accuracy: 0.5597 - val_loss: 0.3792 - val_accuracy: 0.6073\n",
            "Epoch 2/2\n",
            "50000/50000 [==============================] - 118s 2ms/step - loss: 0.4239 - accuracy: 0.5870 - val_loss: 0.3675 - val_accuracy: 0.6029\n"
          ]
        },
        {
          "output_type": "execute_result",
          "data": {
            "text/plain": [
              "<keras.callbacks.History at 0x7f51d3faf950>"
            ]
          },
          "metadata": {},
          "execution_count": 87
        }
      ]
    },
    {
      "cell_type": "markdown",
      "source": [
        "## Check XGB Score\n",
        "\n",
        "* XGBoost"
      ],
      "metadata": {
        "id": "djCt3sK_JoI3"
      }
    },
    {
      "cell_type": "code",
      "source": [
        "print('Test Score', accuracy_score(y_train_C, gbc_model.predict(X_train_C)))\n",
        "print('Val Score', accuracy_score(y_test_C, gbc_model.predict(X_test_C)))"
      ],
      "metadata": {
        "id": "tpSTbA8qJr1D",
        "colab": {
          "base_uri": "https://localhost:8080/"
        },
        "outputId": "91cf5164-71ce-42c4-f03b-9d22162f59b9"
      },
      "execution_count": 89,
      "outputs": [
        {
          "output_type": "stream",
          "name": "stdout",
          "text": [
            "Test Score 0.50624375\n",
            "Val Score 0.50745\n"
          ]
        }
      ]
    },
    {
      "cell_type": "markdown",
      "source": [
        "# Hyperparameter Tuning\n",
        "* XGBoost\n",
        "* RNN Network"
      ],
      "metadata": {
        "id": "bUf2gC6dJsXr"
      }
    },
    {
      "cell_type": "code",
      "source": [
        ""
      ],
      "metadata": {
        "id": "5Qsipm5AJuhh"
      },
      "execution_count": null,
      "outputs": []
    },
    {
      "cell_type": "code",
      "source": [
        ""
      ],
      "metadata": {
        "id": "1S8tPAiZ6CRV"
      },
      "execution_count": null,
      "outputs": []
    },
    {
      "cell_type": "markdown",
      "source": [
        "### GBC"
      ],
      "metadata": {
        "id": "EM7a3XbV3MeN"
      }
    },
    {
      "cell_type": "code",
      "source": [
        "importances = gbc_model.named_steps.xgbclassifier.feature_importances_\n",
        "features = X_train_C.columns\n",
        "pd.Series(importances, index=features).sort_values().tail(10).plot(kind='barh');"
      ],
      "metadata": {
        "colab": {
          "base_uri": "https://localhost:8080/",
          "height": 265
        },
        "id": "Z5Kbjdgj05mc",
        "outputId": "64c45dde-f802-4280-9a82-53e4f6613f10"
      },
      "execution_count": 90,
      "outputs": [
        {
          "output_type": "display_data",
          "data": {
            "image/png": "[encoded data removed]",
            "text/plain": [
              "<Figure size 432x288 with 1 Axes>"
            ]
          },
          "metadata": {
            "needs_background": "light"
          }
        }
      ]
    },
    {
      "cell_type": "markdown",
      "source": [
        "### GBC CM"
      ],
      "metadata": {
        "id": "Tb9agG2J3Png"
      }
    },
    {
      "cell_type": "code",
      "source": [
        "GBC = plot_confusion_matrix(\n",
        "    gbc_model,\n",
        "    X_test_C,\n",
        "    y_test_C,\n",
        "    values_format = '.0f',\n",
        "    display_labels = ['very delayed', 'delayed', 'on time']\n",
        "\n",
        ");"
      ],
      "metadata": {
        "colab": {
          "base_uri": "https://localhost:8080/",
          "height": 337
        },
        "id": "QbCJW0B13SSz",
        "outputId": "5795256a-2a81-4a71-a668-213276dea192"
      },
      "execution_count": 95,
      "outputs": [
        {
          "output_type": "stream",
          "name": "stderr",
          "text": [
            "/usr/local/lib/python3.7/dist-packages/sklearn/utils/deprecation.py:87: FutureWarning: Function plot_confusion_matrix is deprecated; Function `plot_confusion_matrix` is deprecated in 1.0 and will be removed in 1.2. Use one of the class methods: ConfusionMatrixDisplay.from_predictions or ConfusionMatrixDisplay.from_estimator.\n",
            "  warnings.warn(msg, category=FutureWarning)\n"
          ]
        },
        {
          "output_type": "display_data",
          "data": {
            "image/png": "[encoded data removed]",
            "text/plain": [
              "<Figure size 432x288 with 2 Axes>"
            ]
          },
          "metadata": {
            "needs_background": "light"
          }
        }
      ]
    },
    {
      "cell_type": "code",
      "source": [
        ""
      ],
      "metadata": {
        "id": "k4UZq1Gh4LYz"
      },
      "execution_count": null,
      "outputs": []
    }
  ]
}